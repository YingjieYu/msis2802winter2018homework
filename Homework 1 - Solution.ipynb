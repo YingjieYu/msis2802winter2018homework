{
 "cells": [
  {
   "cell_type": "markdown",
   "metadata": {
    "ExecuteTime": {
     "end_time": "2018-01-09T22:16:12.534253Z",
     "start_time": "2018-01-09T22:16:12.530354Z"
    }
   },
   "source": [
    "# Homework 1: A Simple Sentiment Analysis of Tweets"
   ]
  },
  {
   "cell_type": "markdown",
   "metadata": {},
   "source": [
    "The objective of this homework is to assess your current skills and your ability to solve an unknown problem. To successfully complete this homework, you may use any resources available to you."
   ]
  },
  {
   "cell_type": "markdown",
   "metadata": {
    "ExecuteTime": {
     "end_time": "2018-01-09T22:43:29.993598Z",
     "start_time": "2018-01-09T22:43:29.974919Z"
    }
   },
   "source": [
    "You need to accomplish the following tasks:\n",
    "1. Choose a Twitter API.\n",
    "1. Configure access to the Twitter API\n",
    "2. Identify a trending topic on Twitter.\n",
    "3. Get at least 500 tweets on your trending topic.\n",
    "3. Find lists of stopwords, positive words, and negative words.\n",
    "4. Calculate the ratio of positive to negative words in your sample.\n",
    "    \n",
    "Answer the following questions: \n",
    "* __What is the ratio of positive to negative words on your trending topic?__ \n",
    "* __What is your interpretation of the ratio?__\n",
    "* __What is the managerial insight that you could offer based on your results?__\n",
    "\n",
    "If you use tutorials/code snippets that you find on the internet to complete this task, make sure that you reference them. Also make sure that the Jupyter notebook is free of mistakes, well-documented, and professionally formatted before you submit it.\n",
    "\n",
    "This homework is due on **Tuesday, 16 2018**."
   ]
  },
  {
   "cell_type": "markdown",
   "metadata": {},
   "source": [
    "**CAUTION:** This notebook is purely for instructional purposes and not intended not suitable for use in production environments."
   ]
  },
  {
   "cell_type": "code",
   "execution_count": 1,
   "metadata": {
    "ExecuteTime": {
     "end_time": "2018-01-12T04:56:38.080860Z",
     "start_time": "2018-01-12T04:56:38.071587Z"
    }
   },
   "outputs": [],
   "source": [
    "from IPython.core.interactiveshell import InteractiveShell\n",
    "InteractiveShell.ast_node_interactivity = \"all\""
   ]
  },
  {
   "cell_type": "markdown",
   "metadata": {},
   "source": [
    "## Choose a package to access the Twitter API"
   ]
  },
  {
   "cell_type": "markdown",
   "metadata": {
    "ExecuteTime": {
     "end_time": "2018-01-10T16:02:07.543782Z",
     "start_time": "2018-01-10T16:02:07.533807Z"
    }
   },
   "source": [
    "I use the [python-twitter](https://github.com/bear/python-twitter) package to access the Twitter API. There are quite a [few packages to access Twitter](https://developer.twitter.com/en/docs/developer-utilities/twitter-libraries). I chose python-twitter because it seems to be reasonable well maintained."
   ]
  },
  {
   "cell_type": "markdown",
   "metadata": {},
   "source": [
    "First let's download the package. The documentation for python-twitter is [here](https://python-twitter.readthedocs.io/en/latest/)."
   ]
  },
  {
   "cell_type": "code",
   "execution_count": null,
   "metadata": {
    "ExecuteTime": {
     "end_time": "2018-01-10T16:03:20.363197Z",
     "start_time": "2018-01-10T16:03:15.537606Z"
    }
   },
   "outputs": [],
   "source": [
    "!pip install python-twitter"
   ]
  },
  {
   "cell_type": "markdown",
   "metadata": {
    "ExecuteTime": {
     "end_time": "2018-01-10T16:16:51.226050Z",
     "start_time": "2018-01-10T16:16:51.221333Z"
    }
   },
   "source": [
    "## Configure access to the Twitter API"
   ]
  },
  {
   "cell_type": "markdown",
   "metadata": {
    "ExecuteTime": {
     "end_time": "2018-01-10T16:18:58.533377Z",
     "start_time": "2018-01-10T16:18:58.522214Z"
    }
   },
   "source": [
    "You will find a step-by-step how-to to access the Twitter API. You will need a Twitter account to create a Twitter app. For this app, you will need four impotant keys:\n",
    "* consumer_key\n",
    "* consumer_secret\n",
    "* access_token_key\n",
    "* access_token_secret\n",
    "\n",
    "These keys have to be **secret** and **must not** be shared on Github. Thus, we put them in a config file `config.cfg` that we read during initialization of the API. **Add the config file to your .gitignore file**, so that you do not accidentially upload it.\n",
    "\n",
    "The config file has the following structure:\n",
    "\n",
    "`[twitter]\n",
    "consumer_key=AAAAAAAA\n",
    "consumer_secret=BBBBBBBB\n",
    "access_token_key=CCCCCCC\n",
    "access_token_secret=DDDDDDD`"
   ]
  },
  {
   "cell_type": "markdown",
   "metadata": {},
   "source": [
    "In a next step, let's test the API."
   ]
  },
  {
   "cell_type": "markdown",
   "metadata": {},
   "source": [
    "For now, we need two packages:\n",
    "* The confiparser allows us to read a config file\n",
    "* The twitter allows us to access the twitter API"
   ]
  },
  {
   "cell_type": "code",
   "execution_count": 2,
   "metadata": {
    "ExecuteTime": {
     "end_time": "2018-01-12T04:56:42.862365Z",
     "start_time": "2018-01-12T04:56:42.527672Z"
    }
   },
   "outputs": [],
   "source": [
    "from configparser import ConfigParser\n",
    "import twitter"
   ]
  },
  {
   "cell_type": "markdown",
   "metadata": {},
   "source": [
    "We read the config.cfg file "
   ]
  },
  {
   "cell_type": "code",
   "execution_count": 3,
   "metadata": {
    "ExecuteTime": {
     "end_time": "2018-01-12T04:56:43.553168Z",
     "start_time": "2018-01-12T04:56:43.510845Z"
    }
   },
   "outputs": [
    {
     "data": {
      "text/plain": [
       "['config.cfg']"
      ]
     },
     "execution_count": 3,
     "metadata": {},
     "output_type": "execute_result"
    }
   ],
   "source": [
    "config = ConfigParser()\n",
    "config.read('config.cfg')"
   ]
  },
  {
   "cell_type": "markdown",
   "metadata": {},
   "source": [
    "We setup access to the API."
   ]
  },
  {
   "cell_type": "code",
   "execution_count": 4,
   "metadata": {
    "ExecuteTime": {
     "end_time": "2018-01-12T04:56:44.521111Z",
     "start_time": "2018-01-12T04:56:44.497648Z"
    }
   },
   "outputs": [],
   "source": [
    "api = twitter.Api(consumer_key=config.get('twitter','consumer_key'), \n",
    "                  consumer_secret=config.get('twitter', 'consumer_secret'), \n",
    "                  access_token_key=config.get('twitter', 'access_token_key'),\n",
    "                  access_token_secret=config.get('twitter', 'access_token_secret'))"
   ]
  },
  {
   "cell_type": "markdown",
   "metadata": {
    "ExecuteTime": {
     "end_time": "2018-01-10T20:18:35.848631Z",
     "start_time": "2018-01-10T20:18:35.842789Z"
    }
   },
   "source": [
    "## Identify a trending topic on Twitter."
   ]
  },
  {
   "cell_type": "markdown",
   "metadata": {},
   "source": [
    "We define our topic."
   ]
  },
  {
   "cell_type": "code",
   "execution_count": 5,
   "metadata": {
    "ExecuteTime": {
     "end_time": "2018-01-12T04:56:46.944012Z",
     "start_time": "2018-01-12T04:56:46.938009Z"
    }
   },
   "outputs": [],
   "source": [
    "topic = 'trump'"
   ]
  },
  {
   "cell_type": "markdown",
   "metadata": {},
   "source": [
    "## Get at least 500 tweets on your trending topic (Part I)"
   ]
  },
  {
   "cell_type": "markdown",
   "metadata": {},
   "source": [
    "We search for the topic. The result is a list of `twitter.models.Status` objects. The search functionality is limited to [100 tweets](https://developer.twitter.com/en/docs/tweets/search/api-reference/get-search-tweets). We come back to that later."
   ]
  },
  {
   "cell_type": "code",
   "execution_count": 6,
   "metadata": {
    "ExecuteTime": {
     "end_time": "2018-01-12T04:56:49.046242Z",
     "start_time": "2018-01-12T04:56:48.465772Z"
    }
   },
   "outputs": [],
   "source": [
    "results = api.GetSearch(\n",
    "    raw_query=\"q=\"+topic+\"&result_type=recent&count=100\")"
   ]
  },
  {
   "cell_type": "markdown",
   "metadata": {
    "ExecuteTime": {
     "end_time": "2018-01-10T18:39:56.849451Z",
     "start_time": "2018-01-10T18:39:56.840567Z"
    }
   },
   "source": [
    "The object `twitter.models.Status` offers a text attribute that contains the actual tweet text. We get the texts by \"looping\" through the results in Python style."
   ]
  },
  {
   "cell_type": "code",
   "execution_count": 7,
   "metadata": {
    "ExecuteTime": {
     "end_time": "2018-01-12T04:56:57.965183Z",
     "start_time": "2018-01-12T04:56:57.951502Z"
    }
   },
   "outputs": [
    {
     "data": {
      "text/plain": [
       "[Status(ID=951679222006902784, ScreenName=jrockarolla, Created=Fri Jan 12 04:56:22 +0000 2018, Text='Donald Trump is the U.S. president. Of course U.S. stands for “ugly shithole.”'),\n",
       " Status(ID=951679221914619907, ScreenName=clark7950, Created=Fri Jan 12 04:56:22 +0000 2018, Text='RT @_Makada_: Liberals are freaking out because Trump supposedly called Haiti and some African nations \"shithole countries\" in an Oval Offi…'),\n",
       " Status(ID=951679221864239104, ScreenName=jsocial123, Created=Fri Jan 12 04:56:22 +0000 2018, Text='RT @realDonaldTrump: “His is turning out to be an enormously consequential presidency. So much so that, despite my own frustration over his…'),\n",
       " Status(ID=951679221721653248, ScreenName=Kitdupree, Created=Fri Jan 12 04:56:22 +0000 2018, Text='RT @alozrasT11: Oops!! She’s NOT licensed to practice PSYCHIATRY!! \\nWhat an idiot!!! 🙄🤔\\n\\n#LiberlismIsAMentalDisorder\\n\\nLiberal Shrink ‘Diagn…'),\n",
       " Status(ID=951679221692358656, ScreenName=LamarcusDavis2, Created=Fri Jan 12 04:56:22 +0000 2018, Text='RT @lachlan: @woodruffbets @swin24 Reuters reports that the Bannon HPSCI interview that we broke this morning will take place on Tuesday ht…'),\n",
       " Status(ID=951679221671383040, ScreenName=zorro131313, Created=Fri Jan 12 04:56:22 +0000 2018, Text='RT @TomSteyer: Trump should be subjected to the same evaluation as a rank and file member of the military. Read the full letter: https://t.…'),\n",
       " Status(ID=951679221658804224, ScreenName=mollyjane_k, Created=Fri Jan 12 04:56:22 +0000 2018, Text='RT @kibblesmith: People that my @GooglePhotos account automatically identified as Melania Trump:\\n\\n1. @MelaniaTrump\\n2. @LauraBenanti\\n2. Jare…'),\n",
       " Status(ID=951679221591629824, ScreenName=KoolaidTheGreat, Created=Fri Jan 12 04:56:22 +0000 2018, Text='RT @PalmerReport: Donald Trump\\'s day so far:\\n\\n- Calls Haiti a \"shithole\"\\n- Don Lemon: Trump is racist\\n- Anderson Cooper: Trump is racist\\n-…'),\n",
       " Status(ID=951679221574848515, ScreenName=Tim_Banal, Created=Fri Jan 12 04:56:22 +0000 2018, Text='RT @Six_Banal: Trump scores some successes in foreign policy'),\n",
       " Status(ID=951679221402931200, ScreenName=SuperVikArya, Created=Fri Jan 12 04:56:22 +0000 2018, Text='RT @NicholsUprising: “The Poorest Norwegian Children Are Twice As Rich as the Poorest American Children.”\\n— @Demos_Org \\n\\nHow delusional wou…'),\n",
       " Status(ID=951679221381808128, ScreenName=goddessgay, Created=Fri Jan 12 04:56:22 +0000 2018, Text='RT @BillKristol: Two weeks ago a 26-year old soldier raced repeatedly into a burning Bronx apartment building, saving four people before he…'),\n",
       " Status(ID=951679221360861185, ScreenName=vampirebetty, Created=Fri Jan 12 04:56:22 +0000 2018, Text='RT @Remy_Anne: Fact check: Donald Trump only cares about the lives and safety of white Americans https://t.co/h8uRnz0AEo'),\n",
       " Status(ID=951679221356691457, ScreenName=OhMrCharlie, Created=Fri Jan 12 04:56:22 +0000 2018, Text='RT @AnnCoulter: Okay, yes -- Trump shouldn\\'t call them \"shithole countries.\"  A little respect is in order.  They are shithole nations.'),\n",
       " Status(ID=951679221344165893, ScreenName=Pierrej81046459, Created=Fri Jan 12 04:56:22 +0000 2018, Text=\"@realDonaldTrump Trump announced today the SALE of \\nF-52 fighter planes to NORWAY!!\\nOnly...F-52s dont EXIST!!!\\nIt's… https://t.co/g8T8aI7ZtJ\"),\n",
       " Status(ID=951679221298089984, ScreenName=WilsobEd, Created=Fri Jan 12 04:56:22 +0000 2018, Text='RT @mkraju: Schiff tells reporters that GOP on House Intel has blocked dozens of requests for witness interviews and subpoenas, including a…'),\n",
       " Status(ID=951679221260222470, ScreenName=kristafrances, Created=Fri Jan 12 04:56:22 +0000 2018, Text='RT @arjaizen: @RachelAzzara @SpeakerRyan Since it\\'s a given that Congressional Republicans will do nothing other than express their \"concer…'),\n",
       " Status(ID=951679221008601088, ScreenName=Dean_Stahl, Created=Fri Jan 12 04:56:22 +0000 2018, Text='Is Trump trying to show how he can stay President with ZERO approval rating?'),\n",
       " Status(ID=951679221008515072, ScreenName=other95, Created=Fri Jan 12 04:56:22 +0000 2018, Text='RT @ddale8: WaPo: After Trump\\'s FISA tweet, Paul Ryan \"spent 30 minutes on the phone with the president explaining the differences between…'),\n",
       " Status(ID=951679220844978176, ScreenName=butternut6969, Created=Fri Jan 12 04:56:22 +0000 2018, Text=\"RT @MAGAPILL: @realDonaldTrump An important piece of history less told: MK-ULTRA\\nThe CIA's Trauma Based Mind Control program that was condu…\"),\n",
       " Status(ID=951679220702502916, ScreenName=WantNews, Created=Fri Jan 12 04:56:22 +0000 2018, Text='RT @Pajjr2016: #shithole  #shitholepresident\\n\\nPromise me people that you will vote pure blue. No more GOP house cover-up Trump needs to be…'),\n",
       " Status(ID=951679220631162881, ScreenName=DwightWilkes1, Created=Fri Jan 12 04:56:22 +0000 2018, Text='This needs your attention... https://t.co/vTzYCz5m79'),\n",
       " Status(ID=951679220505247744, ScreenName=HoneaPatricia, Created=Fri Jan 12 04:56:22 +0000 2018, Text='Best.\\nQuote. \\nEver. \\nThe difference between George HW and trump disproves Darwin!  Lol'),\n",
       " Status(ID=951679220429807619, ScreenName=SeditiousSis_, Created=Fri Jan 12 04:56:22 +0000 2018, Text=\"RT @BuzzFeedNews: A group of detainees have filed a new challenge to their detention based on Trump's public opposition to prisoner release…\"),\n",
       " Status(ID=951679220417290241, ScreenName=TwoRiversTX, Created=Fri Jan 12 04:56:22 +0000 2018, Text=\"RT @ALT_uscis: Trump's Grandfather, Friedrich Trump, owned and operated a Brothel in Bennett, British Columbia to cater to the mining rush.…\"),\n",
       " Status(ID=951679220253540352, ScreenName=NathanE11, Created=Fri Jan 12 04:56:22 +0000 2018, Text='RT @david_j_roth: Trump won because he was the only candidate brave enough to say what Real Americans are thinking: impossibly ignorant and…'),\n",
       " Status(ID=951679220224348160, ScreenName=uslaw1a, Created=Fri Jan 12 04:56:22 +0000 2018, Text='President Trump meets with GOP lawmakers to discuss immigration https://t.co/WV8ikt1tdS'),\n",
       " Status(ID=951679219976695808, ScreenName=jsinvr, Created=Fri Jan 12 04:56:22 +0000 2018, Text='RT @BillKristol: Two weeks ago a 26-year old soldier raced repeatedly into a burning Bronx apartment building, saving four people before he…'),\n",
       " Status(ID=951679219939053573, ScreenName=reinwald, Created=Fri Jan 12 04:56:22 +0000 2018, Text='RT @DanRather: The latest outrage from President Trump disparaging immigrants from what he calls \"shithole\" countries is a new low. It\\'s di…'),\n",
       " Status(ID=951679219922292741, ScreenName=TRUTH_TWEETERS, Created=Fri Jan 12 04:56:22 +0000 2018, Text='RT @cjf39: CONFIRMED: Haiti summoned top US diplomat over Trump\\'s \"shithole\" comments. Currently no ambassador, so Charge d\\'Affaires Robin…'),\n",
       " Status(ID=951679219897073664, ScreenName=dbiddy94, Created=Fri Jan 12 04:56:22 +0000 2018, Text='RT @Charalanahzard: ...Drunk white girl or Donald Trump tweet? https://t.co/eT377ixhBc'),\n",
       " Status(ID=951679219838439425, ScreenName=DaneLeinert, Created=Fri Jan 12 04:56:22 +0000 2018, Text='@loverain6 @andersoncooper Just think only 7 more years for President Trump. https://t.co/tSM7d8lebS'),\n",
       " Status(ID=951679219834089472, ScreenName=resistforusa, Created=Fri Jan 12 04:56:22 +0000 2018, Text='RT @JohnDoranNY: Warning to all #Resistance #FBR\\n\\nThere are a large amount of brand new Russian Bots posting the following:\\n\\n\"Are you a Tru…'),\n",
       " Status(ID=951679219746070528, ScreenName=Nastie99_, Created=Fri Jan 12 04:56:21 +0000 2018, Text='RT @Reuters: Mexico will never pay for Trump wall: Mexican economy minister https://t.co/0YXw2QWfUL https://t.co/xRCdWAVVYw'),\n",
       " Status(ID=951679219733618688, ScreenName=kazziefwil, Created=Fri Jan 12 04:56:21 +0000 2018, Text='RT @timkaine: He said all Haitians have AIDS. He said Nigerians live in huts. He called Mexicans rapists. This is who Donald Trump is. Ther…'),\n",
       " Status(ID=951679219733598209, ScreenName=duhfcuk, Created=Fri Jan 12 04:56:21 +0000 2018, Text='RT @BillKristol: Two weeks ago a 26-year old soldier raced repeatedly into a burning Bronx apartment building, saving four people before he…'),\n",
       " Status(ID=951679219699941376, ScreenName=tahayes7, Created=Fri Jan 12 04:56:21 +0000 2018, Text='@DavidFeltenber5 @ObamaFoundation Right after Trump does.'),\n",
       " Status(ID=951679219515273216, ScreenName=MrCatullus, Created=Fri Jan 12 04:56:21 +0000 2018, Text='RT @kurteichenwald: Trump just said, \"“I went to the best colleges, or college.\" Why the slip? 1 or 2? Answer: 2. He wanted UPenn, but Dad\\'…'),\n",
       " Status(ID=951679219477573640, ScreenName=vatthepinters, Created=Fri Jan 12 04:56:21 +0000 2018, Text='RT @KHandozo: Gorsuch sits in his stolen seat and makes calls for the next generation. Trump appoints young racistmisogynist know nothings…'),\n",
       " Status(ID=951679219356131328, ScreenName=nbct5, Created=Fri Jan 12 04:56:21 +0000 2018, Text='RT @BillKristol: Two weeks ago a 26-year old soldier raced repeatedly into a burning Bronx apartment building, saving four people before he…'),\n",
       " Status(ID=951679219355983873, ScreenName=HeyNikki1, Created=Fri Jan 12 04:56:21 +0000 2018, Text='RT @thehill: Joe Arpaio on Trump\\'s \"shithole\" remark: \"I support him regardless of what he says\" https://t.co/uGhkLybHhv https://t.co/KlfL1…'),\n",
       " Status(ID=951679219217682432, ScreenName=la700, Created=Fri Jan 12 04:56:21 +0000 2018, Text='RT @immigrant_legal: Thanks to President Trump, for the first time in a long long time fake outrage Anderson Cooper and racist Don Lemon ar…'),\n",
       " Status(ID=951679219150581760, ScreenName=JennaCoL12, Created=Fri Jan 12 04:56:21 +0000 2018, Text='RT @BillKristol: Two weeks ago a 26-year old soldier raced repeatedly into a burning Bronx apartment building, saving four people before he…'),\n",
       " Status(ID=951679219138007040, ScreenName=FrankHook, Created=Fri Jan 12 04:56:21 +0000 2018, Text='RT @colbertlateshow: Trump: \"Why are we having all these people from sh*thole countries come here?” \\n\\nSir, they’re not sh*thole countries.…'),\n",
       " Status(ID=951679219137835008, ScreenName=joetsuki, Created=Fri Jan 12 04:56:21 +0000 2018, Text='RT @TrinityNYC: 来月、ロンドンを訪問する予定だったトランプ、激しいプロテストが予想され訪問は取りやめに。(あんな馬鹿一家やバノンみたいなルーザーが来て「国益だ！」と盛り上がったり、メディアがコロコロと子犬のようにまとわりついてるのは、極東のナイーブな某国ぐらいだ…'),\n",
       " Status(ID=951679219062509569, ScreenName=NickKave, Created=Fri Jan 12 04:56:21 +0000 2018, Text='RT @sarahTRUMPMORON: @Thunderbirds511 Trump is unfit and a racist\\n\\n#PresidentShitHole\\n #PresidentShitHole\\n#PresidentShitHole\\n#PresidentShit…'),\n",
       " Status(ID=951679219028910081, ScreenName=PamelitaAural, Created=Fri Jan 12 04:56:21 +0000 2018, Text='@khlamtrill @DeadSensei Trump is!!'),\n",
       " Status(ID=951679219016245249, ScreenName=BlakeMirolla, Created=Fri Jan 12 04:56:21 +0000 2018, Text='RT @jbouie: shoutout to when jemele hill got suspended for calling trump a white supremacist'),\n",
       " Status(ID=951679218873610240, ScreenName=fettwalp, Created=Fri Jan 12 04:56:21 +0000 2018, Text='RT @jonswaine: Second UK outlet now reporting Trump has finally abandoned planned visit to London next month. Protests were expected. https…'),\n",
       " Status(ID=951679218714226689, ScreenName=stairski, Created=Fri Jan 12 04:56:21 +0000 2018, Text=\"RT @MatthewACherry: Dan Rather on Trump's Haiti And African immigrants comment. https://t.co/haPMGmaShJ\"),\n",
       " Status(ID=951679218617856001, ScreenName=TampaHolly, Created=Fri Jan 12 04:56:21 +0000 2018, Text='RT @ChristiChat: To the pearl clutchers criticizing President Trump for calling shitholes “shitsholes” stop the bullshit. This pales in com…'),\n",
       " Status(ID=951679218605228032, ScreenName=mclortie, Created=Fri Jan 12 04:56:21 +0000 2018, Text='RT @nytimes: Representative Cedric L. Richmond said President Trump\\'s comments reinforced \"the concerns that we hear every day, that the pr…'),\n",
       " Status(ID=951679218429124612, ScreenName=gjdrya, Created=Fri Jan 12 04:56:21 +0000 2018, Text='RT @NaiSarcastica: Se la pasan llamando a Venezuela país de mierda y salen histéricos a pelear porque, Trump llama países de mierda a paíse…'),\n",
       " Status(ID=951679218420801537, ScreenName=oceanshaman, Created=Fri Jan 12 04:56:21 +0000 2018, Text='RT @rebeccavallas: BREAKING: Trump has officially ended Medicaid as we know it, by allowing states to take health insurance away from peopl…'),\n",
       " Status(ID=951679218416414720, ScreenName=sherryjones, Created=Fri Jan 12 04:56:21 +0000 2018, Text='RT @SafetyPinDaily: Dreamers win in court, but until Congress acts, their futures are as uncertain as ever   | Via TheIntercept https://t.c…'),\n",
       " Status(ID=951679218349469696, ScreenName=nocovfefe, Created=Fri Jan 12 04:56:21 +0000 2018, Text=\"Trump lauded delivery of F-52s to Norway. The planes only exist in 'Call of Duty.' https://t.co/Ay9L38qXlo\"),\n",
       " Status(ID=951679218282360832, ScreenName=giddy81370604, Created=Fri Jan 12 04:56:21 +0000 2018, Text=\"RT @owillis: reporters who shied away from reporting on trump's racism - his anti-latino, anti-black comments, his slam of muslims, his cam…\"),\n",
       " Status(ID=951679218223431680, ScreenName=basketballmygod, Created=Fri Jan 12 04:56:21 +0000 2018, Text='RT @atrupar: This is gold: CNN put together video of Kellyanne Conway claiming last night that \"nobody\" in the White House \"talks about Hil…'),\n",
       " Status(ID=951679218122928128, ScreenName=drmeredithd, Created=Fri Jan 12 04:56:21 +0000 2018, Text='RT @gettinnoticedmo: when somebody tries to tell you they voted for trump because of \"economic anxiety\" https://t.co/FLLmhrGxvX'),\n",
       " Status(ID=951679218072473602, ScreenName=BeingandAdam, Created=Fri Jan 12 04:56:21 +0000 2018, Text='RT @KarenAttiah: I hope every media outlet that is going to produce outraged pieces about Trump’s “shithole\" comments takes a long and hard…'),\n",
       " Status(ID=951679218043228160, ScreenName=lys_lmao, Created=Fri Jan 12 04:56:21 +0000 2018, Text='RT @keithboykin: Wen did you know Trump was racist?\\n1. Housing discrimination\\n2. Central Park 5 lie\\n3. Birtherism\\n4. Called Mexicans drug d…'),\n",
       " Status(ID=951679217913262080, ScreenName=Penguinsbabe54, Created=Fri Jan 12 04:56:21 +0000 2018, Text='RT @Carpedonktum: The day that Trump made the left spend 24 hours saying how beautiful and successful the Shithole countries are, thus nega…'),\n",
       " Status(ID=951679217888120832, ScreenName=MemphisGators58, Created=Fri Jan 12 04:56:21 +0000 2018, Text='RT @AmyMek: Don Lemon is an example of why people voted for Trump! \"We The People\" are fed up with Anti-American Media Propagandists who pr…'),\n",
       " Status(ID=951679217867132928, ScreenName=Darlingdiazd, Created=Fri Jan 12 04:56:21 +0000 2018, Text='A veces me pregunto ¿Qué tendrá Trump en la cabeza como para salir a decir una canallada como esta? https://t.co/hF0d3rGg5E'),\n",
       " Status(ID=951679217867067392, ScreenName=ozarkwalk, Created=Fri Jan 12 04:56:21 +0000 2018, Text=\"RT @JoyAnnReid: I'm the proud daughter of immigrants from British Guyana and the Congo. My immigrant family - my cousins, aunts, uncles and…\"),\n",
       " Status(ID=951679217766453248, ScreenName=JRMiddleman, Created=Fri Jan 12 04:56:21 +0000 2018, Text='RT @CNN: \"Not racial. Not racially charged. Racist. ... The sentiment the President expressed today is a racist sentiment.\" Anderson Cooper…'),\n",
       " Status(ID=951679217728540672, ScreenName=WhiteMalyn, Created=Fri Jan 12 04:56:21 +0000 2018, Text='RT @pattonoswalt: In a week Trump will do/say something that\\'ll make today\\'s \"shithole\" comment seem quant. Does anyone remember \"Mexicans…'),\n",
       " Status(ID=951679217669935106, ScreenName=keithwmca, Created=Fri Jan 12 04:56:21 +0000 2018, Text='RT @RogueSNRadvisor: What Trump doesn\\'t realize is that because of his leadership, our country has become \"a shithole\".'),\n",
       " Status(ID=951679217384722435, ScreenName=WandaRam1910, Created=Fri Jan 12 04:56:21 +0000 2018, Text='RT @TheRickWilson: Theory: Trump is throwing out rube-bait with this \"shithole\" comment in part because his vaunted wall has been reduced t…'),\n",
       " Status(ID=951679217380593664, ScreenName=tunisima, Created=Fri Jan 12 04:56:21 +0000 2018, Text='RT @ananavarro: It’s true many Americans won’t let go of 2016 election. How can they?\\n-Hillary won popular vote;\\n-The Russians interfered;…'),\n",
       " Status(ID=951679217372205056, ScreenName=effiedog, Created=Fri Jan 12 04:56:21 +0000 2018, Text=\"RT @JoyAnnReid: I'm the proud daughter of immigrants from British Guyana and the Congo. My immigrant family - my cousins, aunts, uncles and…\"),\n",
       " Status(ID=951679217325899776, ScreenName=RickyInJapan, Created=Fri Jan 12 04:56:21 +0000 2018, Text='RT @Carpedonktum: The day that Trump made the left spend 24 hours saying how beautiful and successful the Shithole countries are, thus nega…'),\n",
       " Status(ID=951679217305051138, ScreenName=Lightrider, Created=Fri Jan 12 04:56:21 +0000 2018, Text='RT @Gramiq: Genius. Until today, if you Googled “Trump” and “shithole” all you got were hotel reviews.'),\n",
       " Status(ID=951679217191694337, ScreenName=19Dolphin39, Created=Fri Jan 12 04:56:21 +0000 2018, Text='RT @funder: The silence from Republicans on Trump’s racist sh*thole comments is absolutely deafening. Shame on complicit Republican traitor…'),\n",
       " Status(ID=951679217175064576, ScreenName=bunshadtiger, Created=Fri Jan 12 04:56:21 +0000 2018, Text='RT @funder: Alabama offered an incentive package worth $379M to have the plant in Huntsville. There’s always a catch with Trump.\\n\\nThey were…'),\n",
       " Status(ID=951679217166675968, ScreenName=immouthymom, Created=Fri Jan 12 04:56:21 +0000 2018, Text='RT @DrDenaGrayson: 👇🏼NAILED IT👇🏼\\n\\nOn Trump’s latest #racist tirade:\\n\\n@Lawrence: “Every (previous) president can thank @realDonaldTrump for…'),\n",
       " Status(ID=951679217011486722, ScreenName=ravenknightmag1, Created=Fri Jan 12 04:56:21 +0000 2018, Text='RT @EdKrassen: People from #Haiti, a country which bigot Trump calls a “shithole” represent the second largest group of people employed by…'),\n",
       " Status(ID=951679216625463301, ScreenName=AskHCallahan, Created=Fri Jan 12 04:56:21 +0000 2018, Text='RT @kylegriffin1: “In Las Vegas alone, Trump sold 41 luxury condo units in 2017, a majority of which used limited liability companies – cor…'),\n",
       " Status(ID=951679216575176704, ScreenName=chcfan16, Created=Fri Jan 12 04:56:21 +0000 2018, Text='@DonaldJTrumpJr They closed Sams Clubs (63) of them so..... thousands lost their jobs today. Thanks Trump.'),\n",
       " Status(ID=951679216528994304, ScreenName=ResistMediaWork, Created=Fri Jan 12 04:56:21 +0000 2018, Text='RT @dawnat1618: @shomaristone @NBCNews Fixed this: Most Americans choose to fight for social justice around the world, while trump makes it…'),\n",
       " Status(ID=951679216461991936, ScreenName=gloriaminott, Created=Fri Jan 12 04:56:21 +0000 2018, Text='RT @thehill: Hatch demands \"detailed explanation\" of Trump\\'s \"shithole\" comments https://t.co/QXWcQauZO6 https://t.co/gZHRXstWv1'),\n",
       " Status(ID=951679216424308736, ScreenName=halomoma, Created=Fri Jan 12 04:56:21 +0000 2018, Text=\"RT @hotfunkytown: 'S***HOLE COUNTRIES': Report Says Trump Blasts Immigration From Haiti, African Countries\\n\\nI voted for Trump because he's…\"),\n",
       " Status(ID=951679216327774211, ScreenName=EEEHSE, Created=Fri Jan 12 04:56:21 +0000 2018, Text='RT @sunlorrie: Judging from twitter, many Trump supporters in Canada think Canada is a shithole country too.'),\n",
       " Status(ID=951679216323612672, ScreenName=A_Proud_SAHM, Created=Fri Jan 12 04:56:21 +0000 2018, Text='RT @pdacosta: \"It is like modern-day slavery\" Blais said of working for Trump Model Management. Another former Trump model, who filed a law…'),\n",
       " Status(ID=951679216231202822, ScreenName=pibod41, Created=Fri Jan 12 04:56:21 +0000 2018, Text='RT @polly_905: @AC360 @VanJones68 @JasonMillerinDC Right on @VanJones68 and @andersoncooper today was a very disturbing day not because Tru…'),\n",
       " Status(ID=951679216206069761, ScreenName=KathleenHaag6, Created=Fri Jan 12 04:56:21 +0000 2018, Text='RT @funder: The silence from Republicans on Trump’s racist sh*thole comments is absolutely deafening. Shame on complicit Republican traitor…'),\n",
       " Status(ID=951679216143118336, ScreenName=Lizzie39607857, Created=Fri Jan 12 04:56:21 +0000 2018, Text='Thanks a lot Trump voters, those too lazy to vote, and those that voted third party. You should be so proud! https://t.co/Cq0nN95JTd'),\n",
       " Status(ID=951679216109608960, ScreenName=SeanKuzminski, Created=Fri Jan 12 04:56:21 +0000 2018, Text='RT @RealJamesWoods: Why would anyone want her censored? Her demeanor, sense of tact, and level of intelligence define her as a classic libe…'),\n",
       " Status(ID=951679216092815362, ScreenName=BriggsSpencer, Created=Fri Jan 12 04:56:21 +0000 2018, Text='RT @BillKristol: Two weeks ago a 26-year old soldier raced repeatedly into a burning Bronx apartment building, saving four people before he…'),\n",
       " Status(ID=951679216076115969, ScreenName=Moonriver33, Created=Fri Jan 12 04:56:21 +0000 2018, Text='RT @CREWcrew: One year after Trump made it clear he would not fully divest himself from his vast business empire, Democrats are calling for…'),\n",
       " Status(ID=951679216075997184, ScreenName=winterinbkl, Created=Fri Jan 12 04:56:21 +0000 2018, Text='RT @YoWatShiinaEsq: 日本でどう報道されているのか知りませんが、トランプの英語は「下劣すぎてそのまま報道できない」レベルと米国では公に認知されております。\\nhttps://t.co/RTznLYHfaW\\n\\n（日本ではネトウヨという人々が使っている言語のレベルで…'),\n",
       " Status(ID=951679216067776512, ScreenName=dj_moe1300, Created=Fri Jan 12 04:56:21 +0000 2018, Text='RT @Shareblue: Watch 8 Republicans go stone silent on Trump’s “very stable genius” boast https://t.co/ybReYTDSQo https://t.co/7C6KXd1wr9'),\n",
       " Status(ID=951679216000565248, ScreenName=LORD_reliquary, Created=Fri Jan 12 04:56:21 +0000 2018, Text='RT @realDonaldTrump: Disproven and paid for by Democrats “Dossier used to spy on Trump Campaign. Did FBI use Intel tool to influence the El…'),\n",
       " Status(ID=951679215975329793, ScreenName=LaKeniaem, Created=Fri Jan 12 04:56:21 +0000 2018, Text='RT @Yamiche: Ambassador Paul Altidor also said Haiti’s embassy in DC has heard from many US citizens of Haitian ancestry who are demanding…'),\n",
       " Status(ID=951679215954522112, ScreenName=MikeAJGriffin, Created=Fri Jan 12 04:56:21 +0000 2018, Text='@MatureTrumpTwts Trump would see that number and probably think (and perhaps tweet, who knows these days) that it w… https://t.co/vF08LnWZBg'),\n",
       " Status(ID=951679215832793093, ScreenName=Thrownpeas, Created=Fri Jan 12 04:56:21 +0000 2018, Text='RT @Gramiq: Genius. Until today, if you Googled “Trump” and “shithole” all you got were hotel reviews.'),\n",
       " Status(ID=951679215799160833, ScreenName=eebrinkenstein, Created=Fri Jan 12 04:56:21 +0000 2018, Text='@Tonia8675309 @UnrealJacklein She is red state republican,  owned by LDS.... which if you watch their LDS conferenc… https://t.co/b1jZ3SxDTR'),\n",
       " Status(ID=951679215782461440, ScreenName=AttyALWIII, Created=Fri Jan 12 04:56:21 +0000 2018, Text=\"@washingtonpost tRump's words emanate from a #shithole\"),\n",
       " Status(ID=951679215727882240, ScreenName=whousedallnames, Created=Fri Jan 12 04:56:21 +0000 2018, Text='RT @analyticalps: Trump was elected because he was not politically correct. \\n\\nMedia: “President Trump is not being politically correct!”\\n\\nT…'),\n",
       " Status(ID=951679215669260288, ScreenName=melscott98, Created=Fri Jan 12 04:56:21 +0000 2018, Text='RT @pattonoswalt: In a week Trump will do/say something that\\'ll make today\\'s \"shithole\" comment seem quant. Does anyone remember \"Mexicans…'),\n",
       " Status(ID=951679215631441920, ScreenName=resistorangeA, Created=Fri Jan 12 04:56:21 +0000 2018, Text='RT @cmclymer: I am sick and tired of Republican strategists going on cable news and acting incredulous and shocked and then attempting to p…')]"
      ]
     },
     "execution_count": 7,
     "metadata": {},
     "output_type": "execute_result"
    }
   ],
   "source": [
    "results"
   ]
  },
  {
   "cell_type": "code",
   "execution_count": 8,
   "metadata": {
    "ExecuteTime": {
     "end_time": "2018-01-12T04:57:48.333597Z",
     "start_time": "2018-01-12T04:57:48.327410Z"
    }
   },
   "outputs": [],
   "source": [
    "texts = [result.text for result in results]"
   ]
  },
  {
   "cell_type": "markdown",
   "metadata": {},
   "source": [
    "## Find lists of stopwords, positive words, and negative words."
   ]
  },
  {
   "cell_type": "markdown",
   "metadata": {},
   "source": [
    "Text analysis is a common problem in data science. Luckily, very smart and capable people have developed powerful packages that already do most of the work. For text analysis, a great package is [NLTK](http://www.nltk.org). Let's install it."
   ]
  },
  {
   "cell_type": "code",
   "execution_count": 235,
   "metadata": {
    "ExecuteTime": {
     "end_time": "2018-01-10T19:11:59.606500Z",
     "start_time": "2018-01-10T19:11:58.736984Z"
    }
   },
   "outputs": [
    {
     "name": "stdout",
     "output_type": "stream",
     "text": [
      "Requirement already satisfied: nltk in /usr/local/lib/python3.6/site-packages\n",
      "Requirement already satisfied: six in /usr/local/lib/python3.6/site-packages (from nltk)\n"
     ]
    }
   ],
   "source": [
    "!pip install nltk"
   ]
  },
  {
   "cell_type": "markdown",
   "metadata": {},
   "source": [
    "Now, we are able to import NLTK. The task is to count the positive and negative words and exclude stopwords. NLTK already provides a list of stopwords. We download the list and import it. Then, we tokenize the tweets, which means that we separate each word. (We need the `punkt` list from NLTK for this.)"
   ]
  },
  {
   "cell_type": "code",
   "execution_count": 236,
   "metadata": {
    "ExecuteTime": {
     "end_time": "2018-01-10T19:11:59.680341Z",
     "start_time": "2018-01-10T19:11:59.627137Z"
    }
   },
   "outputs": [
    {
     "name": "stdout",
     "output_type": "stream",
     "text": [
      "[nltk_data] Downloading package stopwords to /home/dv/nltk_data...\n",
      "[nltk_data]   Package stopwords is already up-to-date!\n"
     ]
    },
    {
     "data": {
      "text/plain": [
       "True"
      ]
     },
     "execution_count": 236,
     "metadata": {},
     "output_type": "execute_result"
    },
    {
     "name": "stdout",
     "output_type": "stream",
     "text": [
      "[nltk_data] Downloading package punkt to /home/dv/nltk_data...\n",
      "[nltk_data]   Package punkt is already up-to-date!\n"
     ]
    },
    {
     "data": {
      "text/plain": [
       "True"
      ]
     },
     "execution_count": 236,
     "metadata": {},
     "output_type": "execute_result"
    }
   ],
   "source": [
    "import nltk\n",
    "nltk.download('stopwords')\n",
    "from nltk.corpus import stopwords\n",
    "nltk.download('punkt')\n",
    "from nltk.tokenize import word_tokenize"
   ]
  },
  {
   "cell_type": "markdown",
   "metadata": {},
   "source": [
    "We focus on the English language."
   ]
  },
  {
   "cell_type": "code",
   "execution_count": 237,
   "metadata": {
    "ExecuteTime": {
     "end_time": "2018-01-10T19:11:59.717407Z",
     "start_time": "2018-01-10T19:11:59.708915Z"
    },
    "scrolled": true
   },
   "outputs": [],
   "source": [
    "sw = set(stopwords.words('english'))"
   ]
  },
  {
   "cell_type": "markdown",
   "metadata": {
    "ExecuteTime": {
     "end_time": "2018-01-10T18:46:38.167342Z",
     "start_time": "2018-01-10T18:46:38.160135Z"
    }
   },
   "source": [
    "We apply the function `word_tokenize` to each tweet text."
   ]
  },
  {
   "cell_type": "code",
   "execution_count": 238,
   "metadata": {
    "ExecuteTime": {
     "end_time": "2018-01-10T19:11:59.792178Z",
     "start_time": "2018-01-10T19:11:59.743986Z"
    }
   },
   "outputs": [],
   "source": [
    "token_text = [word_tokenize(str(text)) for text in texts]"
   ]
  },
  {
   "cell_type": "markdown",
   "metadata": {},
   "source": [
    "Next, we remove all the stopword that the list `sw` provides. Remember, we have a tokenized list now, which is essentially a list of lists. For each tweet, we retain all the words that are not stopwords."
   ]
  },
  {
   "cell_type": "code",
   "execution_count": 239,
   "metadata": {
    "ExecuteTime": {
     "end_time": "2018-01-10T19:11:59.898575Z",
     "start_time": "2018-01-10T19:11:59.888031Z"
    }
   },
   "outputs": [],
   "source": [
    "relevant_words = []\n",
    "for t in token_text:\n",
    "    rw = [w for w in t if str(w).lower() not in sw]\n",
    "    relevant_words.append(rw)"
   ]
  },
  {
   "cell_type": "markdown",
   "metadata": {},
   "source": [
    "NLTK has the VADER Sentiment Analyzer, wich is particularly interesting for Social Media. Read more about VADER here:\n",
    "\n",
    ">Hutto, C.J. & Gilbert, E.E. (2014). VADER: A Parsimonious Rule-based Model for Sentiment Analysis of Social Media Text. Eighth International Conference on Weblogs and Social Media (ICWSM-14). Ann Arbor, MI, June 2014.\n",
    "\n",
    "We import VADER, download the lexicon, and create an Analyzer object."
   ]
  },
  {
   "cell_type": "code",
   "execution_count": 240,
   "metadata": {
    "ExecuteTime": {
     "end_time": "2018-01-10T19:12:00.254238Z",
     "start_time": "2018-01-10T19:12:00.221586Z"
    }
   },
   "outputs": [
    {
     "name": "stdout",
     "output_type": "stream",
     "text": [
      "[nltk_data] Downloading package vader_lexicon to /home/dv/nltk_data...\n",
      "[nltk_data]   Package vader_lexicon is already up-to-date!\n"
     ]
    },
    {
     "data": {
      "text/plain": [
       "True"
      ]
     },
     "execution_count": 240,
     "metadata": {},
     "output_type": "execute_result"
    }
   ],
   "source": [
    "from nltk.sentiment.vader import SentimentIntensityAnalyzer\n",
    "nltk.download('vader_lexicon')\n",
    "sid = SentimentIntensityAnalyzer()"
   ]
  },
  {
   "cell_type": "markdown",
   "metadata": {},
   "source": [
    "Our goal was to count the positive and negative words. Thus, we flatten the list of tweets. We also create a function to get the compound scores from Vader and map this to the list of words."
   ]
  },
  {
   "cell_type": "code",
   "execution_count": 302,
   "metadata": {
    "ExecuteTime": {
     "end_time": "2018-01-10T20:13:09.540023Z",
     "start_time": "2018-01-10T20:13:09.462418Z"
    }
   },
   "outputs": [],
   "source": [
    "flatten_relevant_words = [word for text in relevant_words for word in text]\n",
    "\n",
    "def get_compound_score(word):\n",
    "    if word is not None:\n",
    "        return sid.polarity_scores(word)['compound']\n",
    "    else: \n",
    "        return 0\n",
    "\n",
    "scores = list( map(get_compound_score, flatten_relevant_words))"
   ]
  },
  {
   "cell_type": "markdown",
   "metadata": {},
   "source": [
    "## Calculate the ratio of positive to negative words in your sample."
   ]
  },
  {
   "cell_type": "markdown",
   "metadata": {},
   "source": [
    "Next, we simply count the positive and negative words. We can also count the neutral words. (Caution: we have a very broad definition of what counts as positive or negative.)"
   ]
  },
  {
   "cell_type": "code",
   "execution_count": 242,
   "metadata": {
    "ExecuteTime": {
     "end_time": "2018-01-10T19:12:00.960242Z",
     "start_time": "2018-01-10T19:12:00.947712Z"
    }
   },
   "outputs": [],
   "source": [
    "pos = sum(1 for score in scores if score > 0)\n",
    "neg = sum(1 for score in scores if score < 0)\n",
    "neu = sum(1 for score in scores if score == 0)"
   ]
  },
  {
   "cell_type": "markdown",
   "metadata": {},
   "source": [
    "Next, we can calculate the ratio of postive to negative words."
   ]
  },
  {
   "cell_type": "code",
   "execution_count": 243,
   "metadata": {
    "ExecuteTime": {
     "end_time": "2018-01-10T19:12:01.560245Z",
     "start_time": "2018-01-10T19:12:01.552878Z"
    }
   },
   "outputs": [
    {
     "data": {
      "text/plain": [
       "22.727272727272727"
      ]
     },
     "execution_count": 243,
     "metadata": {},
     "output_type": "execute_result"
    }
   ],
   "source": [
    "((pos-neg)/neg)*100"
   ]
  },
  {
   "cell_type": "markdown",
   "metadata": {
    "ExecuteTime": {
     "end_time": "2018-01-10T19:07:53.909984Z",
     "start_time": "2018-01-10T19:07:53.901049Z"
    }
   },
   "source": [
    "We can do the same procedure on the full tweets."
   ]
  },
  {
   "cell_type": "code",
   "execution_count": 283,
   "metadata": {
    "ExecuteTime": {
     "end_time": "2018-01-10T20:06:22.729083Z",
     "start_time": "2018-01-10T20:06:22.647815Z"
    }
   },
   "outputs": [
    {
     "data": {
      "text/plain": [
       "21.21212121212121"
      ]
     },
     "execution_count": 283,
     "metadata": {},
     "output_type": "execute_result"
    }
   ],
   "source": [
    "full_tweet_scores = list( map(get_compound_score, texts))\n",
    "pos = sum(1 for score in full_tweet_scores if score > 0)\n",
    "neg = sum(1 for score in full_tweet_scores if score < 0)\n",
    "neu = sum(1 for score in full_tweet_scores if score == 0)\n",
    "((pos-neg)/neg)*100"
   ]
  },
  {
   "cell_type": "markdown",
   "metadata": {},
   "source": [
    "## Get at least 500 tweets on your trending topic (Part II)"
   ]
  },
  {
   "cell_type": "markdown",
   "metadata": {},
   "source": [
    "Currently, our sample is limited by the search query, which only allows 100 tweets. Thus, we will collect tweets on our topic using the stream functionality of Twitter."
   ]
  },
  {
   "cell_type": "markdown",
   "metadata": {},
   "source": [
    "We setup a StreamFilter object and let it track the topic. Each tweet in this object will be appended to the list `streamed_tweets`. Once that list is 500 tweets long, we stop. The API documentation is a bit thin, but [this blog post](https://iseverythingstilltheworst.com/blog/2016/05/28/capturing_twitter_streams/) helped a lot."
   ]
  },
  {
   "cell_type": "code",
   "execution_count": 306,
   "metadata": {
    "ExecuteTime": {
     "end_time": "2018-01-10T20:13:41.347830Z",
     "start_time": "2018-01-10T20:13:27.084183Z"
    }
   },
   "outputs": [],
   "source": [
    "stream = api.GetStreamFilter(track=[topic])\n",
    "streamed_tweets = []\n",
    "\n",
    "for tweet in stream:\n",
    "    streamed_tweets.append(twitter.Status.NewFromJsonDict(tweet).text)\n",
    "    if len(streamed_tweets) == 500:\n",
    "        stream.close()"
   ]
  },
  {
   "cell_type": "markdown",
   "metadata": {},
   "source": [
    "We apply the same function on the streamed tweets."
   ]
  },
  {
   "cell_type": "code",
   "execution_count": 309,
   "metadata": {
    "ExecuteTime": {
     "end_time": "2018-01-10T20:14:22.632304Z",
     "start_time": "2018-01-10T20:14:22.442914Z"
    }
   },
   "outputs": [
    {
     "data": {
      "text/plain": [
       "8.771929824561402"
      ]
     },
     "execution_count": 309,
     "metadata": {},
     "output_type": "execute_result"
    },
    {
     "data": {
      "text/plain": [
       "1.087719298245614"
      ]
     },
     "execution_count": 309,
     "metadata": {},
     "output_type": "execute_result"
    }
   ],
   "source": [
    "stream_scores = list( map(get_compound_score, streamed_tweets))\n",
    "pos = sum(1 for score in stream_scores if score > 0.5)\n",
    "neg = sum(1 for score in stream_scores if score < -0.5)\n",
    "neu = sum(1 for score in stream_scores if score == 0)\n",
    "((pos-neg)/neg)*100"
   ]
  },
  {
   "cell_type": "markdown",
   "metadata": {
    "ExecuteTime": {
     "end_time": "2018-01-10T20:16:59.882499Z",
     "start_time": "2018-01-10T20:16:59.860169Z"
    }
   },
   "source": [
    "This gives us the current ratio of positive to negative tweets."
   ]
  },
  {
   "cell_type": "markdown",
   "metadata": {},
   "source": [
    "## Clean up (Optional for Docker Use)"
   ]
  },
  {
   "cell_type": "markdown",
   "metadata": {},
   "source": [
    "We have installed a couple of packages that we want to include in the docker container. We create a list of installed packages that we can use to updated the requirements for the docker container."
   ]
  },
  {
   "cell_type": "code",
   "execution_count": 314,
   "metadata": {
    "ExecuteTime": {
     "end_time": "2018-01-10T20:24:11.664630Z",
     "start_time": "2018-01-10T20:24:09.605143Z"
    }
   },
   "outputs": [],
   "source": [
    "! pip freeze > requirements.txt"
   ]
  }
 ],
 "metadata": {
  "kernelspec": {
   "display_name": "Python 3",
   "language": "python",
   "name": "python3"
  },
  "language_info": {
   "codemirror_mode": {
    "name": "ipython",
    "version": 3
   },
   "file_extension": ".py",
   "mimetype": "text/x-python",
   "name": "python",
   "nbconvert_exporter": "python",
   "pygments_lexer": "ipython3",
   "version": "3.6.3"
  },
  "toc": {
   "nav_menu": {},
   "number_sections": true,
   "sideBar": true,
   "skip_h1_title": false,
   "toc_cell": false,
   "toc_position": {},
   "toc_section_display": "block",
   "toc_window_display": false
  },
  "varInspector": {
   "cols": {
    "lenName": 16,
    "lenType": 16,
    "lenVar": 40
   },
   "kernels_config": {
    "python": {
     "delete_cmd_postfix": "",
     "delete_cmd_prefix": "del ",
     "library": "var_list.py",
     "varRefreshCmd": "print(var_dic_list())"
    },
    "r": {
     "delete_cmd_postfix": ") ",
     "delete_cmd_prefix": "rm(",
     "library": "var_list.r",
     "varRefreshCmd": "cat(var_dic_list()) "
    }
   },
   "types_to_exclude": [
    "module",
    "function",
    "builtin_function_or_method",
    "instance",
    "_Feature"
   ],
   "window_display": false
  }
 },
 "nbformat": 4,
 "nbformat_minor": 2
}
